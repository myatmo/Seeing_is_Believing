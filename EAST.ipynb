{
  "nbformat": 4,
  "nbformat_minor": 0,
  "metadata": {
    "colab": {
      "name": "EAST.ipynb",
      "provenance": [],
      "collapsed_sections": [],
      "toc_visible": true,
      "mount_file_id": "1CBQ8d9trKUXlXHQs_ocZH21ICc-pS_1G",
      "authorship_tag": "ABX9TyNv7XlRqkWKPCfu6tg3Cx4j",
      "include_colab_link": true
    },
    "kernelspec": {
      "name": "python3",
      "display_name": "Python 3"
    }
  },
  "cells": [
    {
      "cell_type": "markdown",
      "metadata": {
        "id": "view-in-github",
        "colab_type": "text"
      },
      "source": [
        "<a href=\"https://colab.research.google.com/github/myatmo/Seeing_is_Believing/blob/master/EAST.ipynb\" target=\"_parent\"><img src=\"https://colab.research.google.com/assets/colab-badge.svg\" alt=\"Open In Colab\"/></a>"
      ]
    },
    {
      "cell_type": "markdown",
      "metadata": {
        "id": "yadCKp-dNC5r",
        "colab_type": "text"
      },
      "source": [
        "# Troubleshooting\n",
        "\n",
        "Note: If it fails to upload the image from Drive, login to umn account again. It's caused by the authentication factor needed by umn account.\n",
        "\n",
        "Don't change the directory to images. The model needs to be accessed and it is not under images directory!"
      ]
    },
    {
      "cell_type": "markdown",
      "metadata": {
        "id": "hombErncer8C",
        "colab_type": "text"
      },
      "source": [
        "# Imports"
      ]
    },
    {
      "cell_type": "code",
      "metadata": {
        "id": "bhNDhXPUhr_1",
        "colab_type": "code",
        "colab": {}
      },
      "source": [
        "# import all necessary libraries for detection\n",
        "import cv2 as cv\n",
        "from google.colab.patches import cv2_imshow # replacement for cv2.imshow() for use in Jupyter notebooks.\n",
        "import numpy as np\n",
        "import time\n",
        "from imutils.object_detection import non_max_suppression\n",
        "from matplotlib import pyplot as plt\n",
        "\n",
        "# import for connecting webcam with javascript\n",
        "import base64\n",
        "import html\n",
        "import io\n",
        "from IPython.display import display, Javascript, clear_output\n",
        "from IPython.display import Image as IPy_img\n",
        "from google.colab.output import eval_js\n",
        "from PIL import Image\n",
        "\n",
        "# import for video input\n",
        "from imutils.video import VideoStream # to access webcam\n",
        "from imutils.video import FPS\n",
        "import imutils\n"
      ],
      "execution_count": 1,
      "outputs": []
    },
    {
      "cell_type": "markdown",
      "metadata": {
        "id": "D-MLMB6NeuIt",
        "colab_type": "text"
      },
      "source": [
        "# Mouting Google Drive"
      ]
    },
    {
      "cell_type": "code",
      "metadata": {
        "id": "I-_7jaf6hwEA",
        "colab_type": "code",
        "colab": {
          "base_uri": "https://localhost:8080/",
          "height": 50
        },
        "outputId": "ac79f457-60bd-4917-88d9-3d4819ac290e"
      },
      "source": [
        "# mounting google drive to access images\n",
        "from google.colab import drive\n",
        "drive.mount('/content/drive')\n",
        "\n",
        "# change the working directory if not it'll have problem when loading the pre-trained model\n",
        "%cd drive/My Drive/Colab Notebooks/Appa/"
      ],
      "execution_count": 2,
      "outputs": [
        {
          "output_type": "stream",
          "text": [
            "Drive already mounted at /content/drive; to attempt to forcibly remount, call drive.mount(\"/content/drive\", force_remount=True).\n",
            "/content/drive/My Drive/Colab Notebooks/Appa\n"
          ],
          "name": "stdout"
        }
      ]
    },
    {
      "cell_type": "markdown",
      "metadata": {
        "id": "SU_2BtfVGzMI",
        "colab_type": "text"
      },
      "source": [
        "# Functions"
      ]
    },
    {
      "cell_type": "markdown",
      "metadata": {
        "id": "Ic6KmJByezK3",
        "colab_type": "text"
      },
      "source": [
        "## Load and Prepare Image"
      ]
    },
    {
      "cell_type": "code",
      "metadata": {
        "id": "FoFQMY6_GTYv",
        "colab_type": "code",
        "colab": {}
      },
      "source": [
        "'''\n",
        "Read the input image and convert colour to RGB\n",
        "input:  path to the image and name of the image\n",
        "return: image matrix\n",
        "'''\n",
        "def load_image(image_name):\n",
        "  # load the image\n",
        "  image = cv.imread(image_name)\n",
        "  # colour correction; OpenCV uses BGR thus need to convert to RGB\n",
        "  # only use when using with matplotlib; since colab doesn't support cv.imshow\n",
        "  #image = cv.cvtColor(image, cv.COLOR_BGR2RGB)\n",
        "\n",
        "  return image"
      ],
      "execution_count": 3,
      "outputs": []
    },
    {
      "cell_type": "code",
      "metadata": {
        "id": "4BQQwraNiEKl",
        "colab_type": "code",
        "colab": {}
      },
      "source": [
        "'''\n",
        "Resize it according to the input height and width\n",
        "input:  image name, height and width (int)\n",
        "return: new resized image, rh (ratio changes in height) and rw (ratio changes in width)\n",
        "'''\n",
        "def prepare_image(image, height, width):\n",
        "  # grab the image dimensions\n",
        "  (origH, origW) = image.shape[:2]\n",
        "\n",
        "  # set new height and width and calculate the ratio in changes\n",
        "  (newH, newW) = (height, width) # you can change the size to any multiple of 32\n",
        "  rh = origH / float(newH)\n",
        "  rw = origW / float(newW)\n",
        "\n",
        "  # resize the image\n",
        "  image = cv.resize(image, (newW, newH))\n",
        "\n",
        "  return image, rh, rw"
      ],
      "execution_count": 4,
      "outputs": []
    },
    {
      "cell_type": "code",
      "metadata": {
        "id": "BVEXFMzgGYbj",
        "colab_type": "code",
        "colab": {}
      },
      "source": [
        "'''\n",
        "plot image\n",
        "input:  the image matrix\n",
        "'''\n",
        "def plot_image(image):\n",
        "  # plot the image\n",
        "  plt.imshow(image)\n",
        "  plt.show()"
      ],
      "execution_count": 5,
      "outputs": []
    },
    {
      "cell_type": "markdown",
      "metadata": {
        "id": "1DA4roGrfC76",
        "colab_type": "text"
      },
      "source": [
        "## Load EAST"
      ]
    },
    {
      "cell_type": "code",
      "metadata": {
        "id": "2QzB2QSSnMKm",
        "colab_type": "code",
        "colab": {}
      },
      "source": [
        "'''\n",
        "Feed the image into EAST model\n",
        "input:  new resized image, EAST model path\n",
        "return: scores and geometry (bounding box coordinates)\n",
        "'''\n",
        "def load_east_model(image, east):\n",
        "  # define output layer for EAST detector model; the first one is sigmoid for output probabilities, and\n",
        "  # the second one is for the bounding box coordinates\n",
        "  outputLayers = [\n",
        "                \"feature_fusion/Conv_7/Sigmoid\",\n",
        "                \"feature_fusion/concat_3\"\n",
        "  ]\n",
        "  \n",
        "  # load the pre-trained EAST text detector model\n",
        "  net = cv.dnn.readNet(east)\n",
        "\n",
        "  # grab the image dimensions\n",
        "  (H, W) = image.shape[:2]\n",
        "  blob = cv.dnn.blobFromImage(image, 1.0, (W, H), \n",
        "                              (123.68, 116.78, 103.94), swapRB=True, crop=False)\n",
        "\n",
        "  # pass the input image through the network\n",
        "  net.setInput(blob)\n",
        "\n",
        "  # forward pass to get two feature maps: scores and geometry\n",
        "  (scores, geometry) = net.forward(outputLayers)\n",
        "\n",
        "  return (scores, geometry)"
      ],
      "execution_count": 6,
      "outputs": []
    },
    {
      "cell_type": "markdown",
      "metadata": {
        "id": "4pdZupd-fJf5",
        "colab_type": "text"
      },
      "source": [
        "## Construct Bounding Boxes"
      ]
    },
    {
      "cell_type": "code",
      "metadata": {
        "id": "YwhKiCqnuttp",
        "colab_type": "code",
        "colab": {}
      },
      "source": [
        "'''\n",
        "Clean up data that have low probability in scores and extract rects that contains the coordinates of bounding boxes from geometry\n",
        "input:  scores, geometry returned from EAST model and min_confidence\n",
        "return: rects (startX, startY, endX, endY coordinates) and confidences (probability values associated with each bounding box in rects)\n",
        "'''\n",
        "def construct_bounding_boxes(scores, geometry, min_confidence):\n",
        "  # get the volume of scores; scores.shape = (1, 1, 80, 80) and geo.. is (1, 5, 80, 80); 80 can be any number (depends on the image size)\n",
        "  (rows, cols) = scores.shape[2:4]\n",
        "\n",
        "  # check if the score has high probability; if not ignore it\n",
        "  mask = (scores > min_confidence).astype(scores.dtype)\n",
        "\n",
        "  # multiplying by score_mask makes all the low prob that is less than min_confidences zero\n",
        "  confidences = (scores * mask).flatten().reshape(rows*cols, 1) # the probability associated with each bounding box\n",
        "  geoData = (geometry * mask).reshape(geometry.shape[1], rows*cols).T\n",
        "\n",
        "  # reduce the dimensions of scoreData and geoData by removing rows that have zeros values\n",
        "  confidences = confidences[~np.all(confidences==0, axis=1)]\n",
        "  geoData = geoData[~np.all(geoData==0, axis=1)]\n",
        "\n",
        "  # extract geometrical data (x1, y1, x2, y2 and angle) from geoData\n",
        "  x1 = geoData[:, [0]]\n",
        "  y1 = geoData[:, [1]]\n",
        "  x2 = geoData[:, [2]]\n",
        "  y2 = geoData[:, [3]]\n",
        "  angle = geoData[:, [4]]\n",
        "\n",
        "  # compute the offeset factor; the resulting feature maps is 4 times smaller than the input image\n",
        "  offset_mask = mask.reshape(mask.shape[2], mask.shape[3])\n",
        "  offset_value = np.array(np.where(offset_mask==1)).T*4.0\n",
        "  n = x1.shape[0]\n",
        "  assert(offset_value.shape == (n, 2))  # jsut to make sure that the dimension of offset_value is the same as that of x1, y1, x2 etc.\n",
        "  \n",
        "  # compute starting x,y and ending x,y of the bounding box\n",
        "  endX = (offset_value[:,1].reshape(n, 1) + (np.cos(angle)*y1) + (np.sin(angle)*x2)).astype(int)\n",
        "  startX = (endX - (y1 + y2)).astype(int)\n",
        "\n",
        "  endY = (offset_value[:,0].reshape(n, 1) - (np.sin(angle)*y1) + (np.cos(angle)*x2)).astype(int)\n",
        "  startY = (endY - (x1 + x2)).astype(int)\n",
        "\n",
        "  # stack startX, startY, endX, endY together in column wise\n",
        "  rects = np.column_stack((startX, startY, endX, endY)) # the bounding box coordinate (x, y) for text regions\n",
        "\n",
        "  return (rects, confidences)"
      ],
      "execution_count": 7,
      "outputs": []
    },
    {
      "cell_type": "markdown",
      "metadata": {
        "id": "bK8FqxbHlpca",
        "colab_type": "text"
      },
      "source": [
        "## Apply Non-Maxima Suppression"
      ]
    },
    {
      "cell_type": "code",
      "metadata": {
        "id": "f9XGr44BQwJJ",
        "colab_type": "code",
        "colab": {}
      },
      "source": [
        "'''\n",
        "Apply non-maxima suppression for overlapping bounding boxes\n",
        "input:  rects (startX, startY, endX, endY coordinates) and confidences (probability values associated with each bounding box in rects)\n",
        "return: unique bounding boxes\n",
        "'''\n",
        "def apply_nms(rects, confidences):\n",
        "  # reshape and convert confidences (numpy array) into list\n",
        "  prob_list = confidences.flatten()\n",
        "  prob_list = prob_list.tolist()\n",
        "  \n",
        "  # call non-maxima suppression\n",
        "  boxes = non_max_suppression(rects, probs=prob_list)\n",
        "\n",
        "  return boxes"
      ],
      "execution_count": 8,
      "outputs": []
    },
    {
      "cell_type": "markdown",
      "metadata": {
        "id": "emPjhn80ltiq",
        "colab_type": "text"
      },
      "source": [
        "## Draw Bounding Boxes"
      ]
    },
    {
      "cell_type": "code",
      "metadata": {
        "id": "yqrz4LsisQLQ",
        "colab_type": "code",
        "colab": {}
      },
      "source": [
        "'''\n",
        "Draw bounding boxes on the original image\n",
        "input:  the bounding boxes after nms, original image matrix (before resizing), rh (ratio changes in height) and rw (ratio changes in width)\n",
        "'''\n",
        "def draw_boxes(boxes, image, rh, rw):\n",
        "  # loop over the bounding boxes\n",
        "  for (startX, startY, endX, endY) in boxes:\n",
        "    # scale the bounding box coordinates based on the respective ratio\n",
        "    startX = int(startX * rw)\n",
        "    startY = int(startY * rh)\n",
        "    endX = int(endX * rw)\n",
        "    endY = int(endY * rh)\n",
        "\n",
        "    # draw the bounding box on the original image\n",
        "    cv.rectangle(image, (startX, startY), (endX, endY), (0, 255, 0), 2)"
      ],
      "execution_count": 9,
      "outputs": []
    },
    {
      "cell_type": "markdown",
      "metadata": {
        "id": "Rv9RPGZ1NnHm",
        "colab_type": "text"
      },
      "source": [
        "# Text Detection on Images"
      ]
    },
    {
      "cell_type": "markdown",
      "metadata": {
        "id": "w7FChgJJHDiI",
        "colab_type": "text"
      },
      "source": [
        "## Main Function"
      ]
    },
    {
      "cell_type": "code",
      "metadata": {
        "id": "kwT0GnkxF0OJ",
        "colab_type": "code",
        "colab": {}
      },
      "source": [
        "'''\n",
        "Main function to run EAST text detection\n",
        "input:  image name, height and width (for resizing image), EAST model file, minimum confidence value\n",
        "output: bounding boxes on the text areas drawn on the original image\n",
        "'''\n",
        "def detect_text(image_name, height, width, east, min_confidence):\n",
        "  # load and resize image\n",
        "  orig_image = load_image(image_name)\n",
        "  image, rh, rw = prepare_image(orig_image, height, width)\n",
        "\n",
        "  start = time.time()\n",
        "  # load EAST model and get scores and geometry (coordinates of bounding boxes)\n",
        "  print(\"loading EAST text detector...\")\n",
        "  (scores, geometry) = load_east_model(image, east)\n",
        "  end = time.time()\n",
        "  print(\"text detection took %.6f seconds\" % (end-start))\n",
        "  print(\"scores and geometry shape: \", scores.shape, geometry.shape)\n",
        "\n",
        "  start = time.time()\n",
        "  # clean up low probabilities in scores and geomety then construct bounding boxes\n",
        "  (rects, confidences) = construct_bounding_boxes(scores, geometry, min_confidence)\n",
        "  end = time.time()\n",
        "  print(\"total time: %.6f seconds\" % (end-start))\n",
        "  print(\"rects and confidences shape: \", rects.shape, confidences.shape)\n",
        "\n",
        "  # apply non maxima suppression\n",
        "  boxes = apply_nms(rects, confidences)\n",
        "  #boxes = non_max_suppression_slow(rects.tolist(), 0.6)\n",
        "  print(\"bb shape: \", boxes.shape)\n",
        "\n",
        "  draw_boxes(boxes, orig_image, rh, rw)\n",
        "  cv2_imshow(orig_image)\n",
        "  #plot_image(orig_image)\n",
        "\n",
        "  "
      ],
      "execution_count": 10,
      "outputs": []
    },
    {
      "cell_type": "markdown",
      "metadata": {
        "id": "12Mt2JV5HJBM",
        "colab_type": "text"
      },
      "source": [
        "## Testing with images"
      ]
    },
    {
      "cell_type": "code",
      "metadata": {
        "id": "iLZ8HfG02-WY",
        "colab_type": "code",
        "colab": {
          "base_uri": "https://localhost:8080/",
          "height": 304
        },
        "outputId": "b50d5bd7-5198-4099-dad1-c98c32185ac2"
      },
      "source": [
        "# define image path on drive and image name\n",
        "image_name = \"images/img4.jpg\" # change your own image name here\n",
        "east = 'frozen_east_text_detection.pb'  # path to the model; make sure the model is loaded to the working directory\n",
        "width = height = 320\n",
        "min_confidence = 0.6\n",
        "\n",
        "# test detect_text\n",
        "detect_text(image_name, height, width, east, min_confidence)"
      ],
      "execution_count": 11,
      "outputs": [
        {
          "output_type": "stream",
          "text": [
            "loading EAST text detector...\n",
            "text detection took 12.406013 seconds\n",
            "scores and geometry shape:  (1, 1, 80, 80) (1, 5, 80, 80)\n",
            "total time: 0.002101 seconds\n",
            "rects and confidences shape:  (204, 4) (204, 1)\n",
            "bb shape:  (12, 4)\n"
          ],
          "name": "stdout"
        },
        {
          "output_type": "display_data",
          "data": {
            "image/png": "[encoded data removed]",
            "text/plain": [
              "<PIL.Image.Image image mode=RGB size=268x188 at 0x7F7A3A9BD1D0>"
            ]
          },
          "metadata": {
            "tags": []
          }
        }
      ]
    },
    {
      "cell_type": "code",
      "metadata": {
        "id": "9gFZYGMxTKRy",
        "colab_type": "code",
        "colab": {}
      },
      "source": [
        "def non_max_suppression_slow(boxes, overlapThresh):\n",
        "\t# if there are no boxes, return an empty list\n",
        "\tif len(boxes) == 0:\n",
        "\t\treturn []\n",
        "\t# initialize the list of picked indexes\n",
        "\tpick = []\n",
        "\t# grab the coordinates of the bounding boxes\n",
        "\tx1 = boxes[:,0]\n",
        "\ty1 = boxes[:,1]\n",
        "\tx2 = boxes[:,2]\n",
        "\ty2 = boxes[:,3]\n",
        "\t# compute the area of the bounding boxes and sort the bounding\n",
        "\t# boxes by the bottom-right y-coordinate of the bounding box\n",
        "\tarea = (x2 - x1 + 1) * (y2 - y1 + 1)\n",
        "\tidxs = np.argsort(y2)\n",
        " \n",
        "  # keep looping while some indexes still remain in the indexes\n",
        "\t# list\n",
        "\twhile len(idxs) > 0:\n",
        "\t\t# grab the last index in the indexes list, add the index\n",
        "\t\t# value to the list of picked indexes, then initialize\n",
        "\t\t# the suppression list (i.e. indexes that will be deleted)\n",
        "\t\t# using the last index\n",
        "\t\tlast = len(idxs) - 1\n",
        "\t\ti = idxs[last]\n",
        "\t\tpick.append(i)\n",
        "\t\tsuppress = [last]\n",
        "\n",
        "    # loop over all indexes in the indexes list\n",
        "\t\tfor pos in xrange(0, last):\n",
        "\t\t\t# grab the current index\n",
        "\t\t\tj = idxs[pos]\n",
        "\t\t\t# find the largest (x, y) coordinates for the start of\n",
        "\t\t\t# the bounding box and the smallest (x, y) coordinates\n",
        "\t\t\t# for the end of the bounding box\n",
        "\t\t\txx1 = max(x1[i], x1[j])\n",
        "\t\t\tyy1 = max(y1[i], y1[j])\n",
        "\t\t\txx2 = min(x2[i], x2[j])\n",
        "\t\t\tyy2 = min(y2[i], y2[j])\n",
        "\t\t\t# compute the width and height of the bounding box\n",
        "\t\t\tw = max(0, xx2 - xx1 + 1)\n",
        "\t\t\th = max(0, yy2 - yy1 + 1)\n",
        "\t\t\t# compute the ratio of overlap between the computed\n",
        "\t\t\t# bounding box and the bounding box in the area list\n",
        "\t\t\toverlap = float(w * h) / area[j]\n",
        "\t\t\t# if there is sufficient overlap, suppress the\n",
        "\t\t\t# current bounding box\n",
        "\t\t\tif overlap > overlapThresh:\n",
        "\t\t\t\tsuppress.append(pos)\n",
        "\t\t# delete all indexes from the index list that are in the\n",
        "\t\t# suppression list\n",
        "\t\tidxs = np.delete(idxs, suppress)\n",
        "\t# return only the bounding boxes that were picked\n",
        "\treturn boxes[pick]\n",
        "  "
      ],
      "execution_count": null,
      "outputs": []
    },
    {
      "cell_type": "code",
      "metadata": {
        "id": "85N7736JoBNm",
        "colab_type": "code",
        "colab": {
          "base_uri": "https://localhost:8080/",
          "height": 34
        },
        "outputId": "6ecaf7e6-d3d8-4df2-bc91-3c21906fc346"
      },
      "source": [
        "old_time = 0.020355\n",
        "new_time = 0.000590\n",
        "percent = (old_time-new_time)/old_time * 100\n",
        "rate = old_time/new_time\n",
        "print(\"Improved version: %.f times faster\" % rate)"
      ],
      "execution_count": null,
      "outputs": [
        {
          "output_type": "stream",
          "text": [
            "Improved version: 34 times faster\n"
          ],
          "name": "stdout"
        }
      ]
    },
    {
      "cell_type": "markdown",
      "metadata": {
        "id": "GBCLlK-9dQ0E",
        "colab_type": "text"
      },
      "source": [
        "# Real-time Text Detection"
      ]
    },
    {
      "cell_type": "markdown",
      "metadata": {
        "id": "eCldtVJGdyvy",
        "colab_type": "text"
      },
      "source": [
        "## Javascript to access webcam"
      ]
    },
    {
      "cell_type": "code",
      "metadata": {
        "id": "hBcyHUVFFDqf",
        "colab_type": "code",
        "colab": {}
      },
      "source": [
        "'''\n",
        "javascript to take input from webcam\n",
        "'''\n",
        "def start_input():\n",
        "  js = Javascript('''\n",
        "    var video;\n",
        "    var div = null;\n",
        "    var stream;\n",
        "    var captureCanvas;\n",
        "    var imgElement;\n",
        "    var labelElement;\n",
        "    \n",
        "    var pendingResolve = null;\n",
        "    var shutdown = false;\n",
        "    \n",
        "    function removeDom() {\n",
        "       stream.getVideoTracks()[0].stop();\n",
        "       video.remove();\n",
        "       div.remove();\n",
        "       video = null;\n",
        "       div = null;\n",
        "       stream = null;\n",
        "       imgElement = null;\n",
        "       captureCanvas = null;\n",
        "       labelElement = null;\n",
        "    }\n",
        "    \n",
        "    function onAnimationFrame() {\n",
        "      if (!shutdown) {\n",
        "        window.requestAnimationFrame(onAnimationFrame);\n",
        "      }\n",
        "      if (pendingResolve) {\n",
        "        var result = \"\";\n",
        "        if (!shutdown) {\n",
        "          captureCanvas.getContext('2d').drawImage(video, 0, 0, 512, 512);\n",
        "          result = captureCanvas.toDataURL('image/jpeg', 0.8)\n",
        "        }\n",
        "        var lp = pendingResolve;\n",
        "        pendingResolve = null;\n",
        "        lp(result);\n",
        "      }\n",
        "    }\n",
        "    \n",
        "    async function createDom() {\n",
        "      if (div !== null) {\n",
        "        return stream;\n",
        "      }\n",
        "      div = document.createElement('div');\n",
        "      div.style.border = '2px solid black';\n",
        "      div.style.padding = '3px';\n",
        "      div.style.width = '100%';\n",
        "      div.style.maxWidth = '600px';\n",
        "      document.body.appendChild(div);\n",
        "      \n",
        "      const modelOut = document.createElement('div');\n",
        "      modelOut.innerHTML = \"<span>Status:</span>\";\n",
        "      labelElement = document.createElement('span');\n",
        "      labelElement.innerText = 'No data';\n",
        "      labelElement.style.fontWeight = 'bold';\n",
        "      modelOut.appendChild(labelElement);\n",
        "      div.appendChild(modelOut);\n",
        "           \n",
        "      video = document.createElement('video');\n",
        "      video.style.display = 'block';\n",
        "      video.width = div.clientWidth - 6;\n",
        "      video.setAttribute('playsinline', '');\n",
        "      video.onclick = () => { shutdown = true; };\n",
        "      stream = await navigator.mediaDevices.getUserMedia(\n",
        "          {video: { facingMode: \"environment\"}});\n",
        "      div.appendChild(video);\n",
        "      imgElement = document.createElement('img');\n",
        "      imgElement.style.position = 'absolute';\n",
        "      imgElement.style.zIndex = 1;\n",
        "      imgElement.onclick = () => { shutdown = true; };\n",
        "      div.appendChild(imgElement);\n",
        "      \n",
        "      const instruction = document.createElement('div');\n",
        "      instruction.innerHTML = \n",
        "          '<span style=\"color: red; font-weight: bold;\">' +\n",
        "          'When finished, click here or on the video to stop this demo</span>';\n",
        "      div.appendChild(instruction);\n",
        "      instruction.onclick = () => { shutdown = true; };\n",
        "      \n",
        "      video.srcObject = stream;\n",
        "      await video.play();\n",
        "      captureCanvas = document.createElement('canvas');\n",
        "      captureCanvas.width = 512; //video.videoWidth;\n",
        "      captureCanvas.height = 512; //video.videoHeight;\n",
        "      window.requestAnimationFrame(onAnimationFrame);\n",
        "      \n",
        "      return stream;\n",
        "    }\n",
        "    async function takePhoto(label, imgData) {\n",
        "      if (shutdown) {\n",
        "        removeDom();\n",
        "        shutdown = false;\n",
        "        return '';\n",
        "      }\n",
        "      var preCreate = Date.now();\n",
        "      stream = await createDom();\n",
        "      \n",
        "      var preShow = Date.now();\n",
        "      if (label != \"\") {\n",
        "        labelElement.innerHTML = label;\n",
        "      }\n",
        "            \n",
        "      if (imgData != \"\") {\n",
        "        var videoRect = video.getClientRects()[0];\n",
        "        imgElement.style.top = videoRect.top + \"px\";\n",
        "        imgElement.style.left = videoRect.left + \"px\";\n",
        "        imgElement.style.width = videoRect.width + \"px\";\n",
        "        imgElement.style.height = videoRect.height + \"px\";\n",
        "        imgElement.src = imgData;\n",
        "      }\n",
        "      \n",
        "      var preCapture = Date.now();\n",
        "      var result = await new Promise(function(resolve, reject) {\n",
        "        pendingResolve = resolve;\n",
        "      });\n",
        "      shutdown = false;\n",
        "      \n",
        "      return {'create': preShow - preCreate, \n",
        "              'show': preCapture - preShow, \n",
        "              'capture': Date.now() - preCapture,\n",
        "              'img': result};\n",
        "    }\n",
        "    ''')\n",
        "\n",
        "  display(js)\n",
        "  \n",
        "def take_photo(label, img_data):\n",
        "  data = eval_js('takePhoto(\"{}\", \"{}\")'.format(label, img_data))\n",
        "  return data"
      ],
      "execution_count": 12,
      "outputs": []
    },
    {
      "cell_type": "code",
      "metadata": {
        "id": "HNEODgKuXndF",
        "colab_type": "code",
        "colab": {}
      },
      "source": [
        "def js_reply_to_image(js_reply):\n",
        "  \"\"\"\n",
        "  input: \n",
        "        js_reply: JavaScript object, contain image from webcam\n",
        "  output: \n",
        "        image_array: image array RGB from webcam\n",
        "  \"\"\"\n",
        "  jpeg_bytes = base64.b64decode(js_reply['img'].split(',')[1])\n",
        "  image_PIL = Image.open(io.BytesIO(jpeg_bytes))\n",
        "  image_array = np.array(image_PIL)\n",
        "\n",
        "  return image_array"
      ],
      "execution_count": 13,
      "outputs": []
    },
    {
      "cell_type": "code",
      "metadata": {
        "id": "Zd9t2RXsfJOE",
        "colab_type": "code",
        "colab": {}
      },
      "source": [
        "def drawing_array_to_bytes(drawing_array):\n",
        "  \"\"\"\n",
        "  input: \n",
        "        drawing_array: image RGBA contain bounding box and text from prediction\n",
        "                      \n",
        "  output: \n",
        "        drawing_b64: string, encoded from drawing_array\n",
        "  \"\"\"\n",
        "  drawing_PIL = Image.fromarray(drawing_array, 'RGB')\n",
        "  iobuf = io.BytesIO()\n",
        "  drawing_PIL.save(iobuf, format='png')\n",
        "  drawing_bytes = 'data:image/png;base64,{}'.format((str(base64.b64encode(iobuf.getvalue()), 'utf-8')))\n",
        "  return drawing_bytes"
      ],
      "execution_count": 43,
      "outputs": []
    },
    {
      "cell_type": "markdown",
      "metadata": {
        "id": "VU2cANbvd3hJ",
        "colab_type": "text"
      },
      "source": [
        "## Main program"
      ]
    },
    {
      "cell_type": "code",
      "metadata": {
        "id": "Ddi471TjucYq",
        "colab_type": "code",
        "colab": {}
      },
      "source": [
        "east = 'frozen_east_text_detection.pb'  # path to the model; make sure the model is loaded to the working directory\n",
        "width = height = 320\n",
        "min_confidence = 0.6"
      ],
      "execution_count": 30,
      "outputs": []
    },
    {
      "cell_type": "code",
      "metadata": {
        "id": "8IX_YgYBXfNX",
        "colab_type": "code",
        "colab": {
          "base_uri": "https://localhost:8080/",
          "height": 16
        },
        "outputId": "d56ba9a4-de61-4898-8b09-bc8b378f3e6e"
      },
      "source": [
        "start_input()\n",
        "label_html = 'Capturing...'\n",
        "img_data = ''\n",
        "\n",
        "def get_drawing_array(image, boxes):\n",
        "  drawing_array = np.zeros([512, 512, 4], dtype=np.uint8)\n",
        "  drawing_array[:,:,:3] = image\n",
        "  drawing_array[:,:,3] = (drawing_array.max(axis = 2) > 0 ).astype(int) * 255\n",
        "  draw_boxes(boxes, drawing_array, rh, rw)\n",
        "\n",
        "  return drawing_array\n",
        "\n",
        "while True:\n",
        "  js_reply = take_photo(label_html, img_data)\n",
        "  if not js_reply:\n",
        "    break\n",
        "  \n",
        "  image = js_reply_to_image(js_reply)\n",
        "  train_img, rh, rw = prepare_image(image, height, width)\n",
        "  \n",
        "  # load EAST model and get scores and geometry (coordinates of bounding boxes)\n",
        "  (scores, geometry) = load_east_model(train_img, east)\n",
        "\n",
        "  # clean up low probabilities in scores and geomety then construct bounding boxes\n",
        "  (rects, confidences) = construct_bounding_boxes(scores, geometry, min_confidence)\n",
        "\n",
        "  # apply non maxima suppression\n",
        "  boxes = apply_nms(rects, confidences)\n",
        "  draw_boxes(boxes, image, rh, rw)\n",
        "\n",
        "  #drawing_array = get_drawing_array(image, boxes)\n",
        "  drawing_bytes = drawing_array_to_bytes(image)\n",
        "  img_data = drawing_bytes\n",
        "  #print(img_data)"
      ],
      "execution_count": 45,
      "outputs": [
        {
          "output_type": "display_data",
          "data": {
            "application/javascript": [
              "\n",
              "    var video;\n",
              "    var div = null;\n",
              "    var stream;\n",
              "    var captureCanvas;\n",
              "    var imgElement;\n",
              "    var labelElement;\n",
              "    \n",
              "    var pendingResolve = null;\n",
              "    var shutdown = false;\n",
              "    \n",
              "    function removeDom() {\n",
              "       stream.getVideoTracks()[0].stop();\n",
              "       video.remove();\n",
              "       div.remove();\n",
              "       video = null;\n",
              "       div = null;\n",
              "       stream = null;\n",
              "       imgElement = null;\n",
              "       captureCanvas = null;\n",
              "       labelElement = null;\n",
              "    }\n",
              "    \n",
              "    function onAnimationFrame() {\n",
              "      if (!shutdown) {\n",
              "        window.requestAnimationFrame(onAnimationFrame);\n",
              "      }\n",
              "      if (pendingResolve) {\n",
              "        var result = \"\";\n",
              "        if (!shutdown) {\n",
              "          captureCanvas.getContext('2d').drawImage(video, 0, 0, 512, 512);\n",
              "          result = captureCanvas.toDataURL('image/jpeg', 0.8)\n",
              "        }\n",
              "        var lp = pendingResolve;\n",
              "        pendingResolve = null;\n",
              "        lp(result);\n",
              "      }\n",
              "    }\n",
              "    \n",
              "    async function createDom() {\n",
              "      if (div !== null) {\n",
              "        return stream;\n",
              "      }\n",
              "      div = document.createElement('div');\n",
              "      div.style.border = '2px solid black';\n",
              "      div.style.padding = '3px';\n",
              "      div.style.width = '100%';\n",
              "      div.style.maxWidth = '600px';\n",
              "      document.body.appendChild(div);\n",
              "      \n",
              "      const modelOut = document.createElement('div');\n",
              "      modelOut.innerHTML = \"<span>Status:</span>\";\n",
              "      labelElement = document.createElement('span');\n",
              "      labelElement.innerText = 'No data';\n",
              "      labelElement.style.fontWeight = 'bold';\n",
              "      modelOut.appendChild(labelElement);\n",
              "      div.appendChild(modelOut);\n",
              "           \n",
              "      video = document.createElement('video');\n",
              "      video.style.display = 'block';\n",
              "      video.width = div.clientWidth - 6;\n",
              "      video.setAttribute('playsinline', '');\n",
              "      video.onclick = () => { shutdown = true; };\n",
              "      stream = await navigator.mediaDevices.getUserMedia(\n",
              "          {video: { facingMode: \"environment\"}});\n",
              "      div.appendChild(video);\n",
              "      imgElement = document.createElement('img');\n",
              "      imgElement.style.position = 'absolute';\n",
              "      imgElement.style.zIndex = 1;\n",
              "      imgElement.onclick = () => { shutdown = true; };\n",
              "      div.appendChild(imgElement);\n",
              "      \n",
              "      const instruction = document.createElement('div');\n",
              "      instruction.innerHTML = \n",
              "          '<span style=\"color: red; font-weight: bold;\">' +\n",
              "          'When finished, click here or on the video to stop this demo</span>';\n",
              "      div.appendChild(instruction);\n",
              "      instruction.onclick = () => { shutdown = true; };\n",
              "      \n",
              "      video.srcObject = stream;\n",
              "      await video.play();\n",
              "      captureCanvas = document.createElement('canvas');\n",
              "      captureCanvas.width = 512; //video.videoWidth;\n",
              "      captureCanvas.height = 512; //video.videoHeight;\n",
              "      window.requestAnimationFrame(onAnimationFrame);\n",
              "      \n",
              "      return stream;\n",
              "    }\n",
              "    async function takePhoto(label, imgData) {\n",
              "      if (shutdown) {\n",
              "        removeDom();\n",
              "        shutdown = false;\n",
              "        return '';\n",
              "      }\n",
              "      var preCreate = Date.now();\n",
              "      stream = await createDom();\n",
              "      \n",
              "      var preShow = Date.now();\n",
              "      if (label != \"\") {\n",
              "        labelElement.innerHTML = label;\n",
              "      }\n",
              "            \n",
              "      if (imgData != \"\") {\n",
              "        var videoRect = video.getClientRects()[0];\n",
              "        imgElement.style.top = videoRect.top + \"px\";\n",
              "        imgElement.style.left = videoRect.left + \"px\";\n",
              "        imgElement.style.width = videoRect.width + \"px\";\n",
              "        imgElement.style.height = videoRect.height + \"px\";\n",
              "        imgElement.src = imgData;\n",
              "      }\n",
              "      \n",
              "      var preCapture = Date.now();\n",
              "      var result = await new Promise(function(resolve, reject) {\n",
              "        pendingResolve = resolve;\n",
              "      });\n",
              "      shutdown = false;\n",
              "      \n",
              "      return {'create': preShow - preCreate, \n",
              "              'show': preCapture - preShow, \n",
              "              'capture': Date.now() - preCapture,\n",
              "              'img': result};\n",
              "    }\n",
              "    "
            ],
            "text/plain": [
              "<IPython.core.display.Javascript object>"
            ]
          },
          "metadata": {
            "tags": []
          }
        }
      ]
    },
    {
      "cell_type": "markdown",
      "metadata": {
        "id": "vH6iLW8iHasD",
        "colab_type": "text"
      },
      "source": [
        "## Video Input"
      ]
    },
    {
      "cell_type": "code",
      "metadata": {
        "id": "Jrfyk6blVX5O",
        "colab_type": "code",
        "colab": {}
      },
      "source": [
        "def arrayShow(imageArray):\n",
        "  ret, png = cv.imencode('.png', imageArray)\n",
        "  encoded = base64.b64encode(png)\n",
        "  return IPy_img(data=encoded.decode('ascii'))\n",
        "  "
      ],
      "execution_count": null,
      "outputs": []
    },
    {
      "cell_type": "code",
      "metadata": {
        "id": "xRc3wNhahiOl",
        "colab_type": "code",
        "colab": {}
      },
      "source": [
        "video_input = \"images/video.mp4\"\n",
        "def detect_on_videos(video_input):\n",
        "  cap = cv.VideoCapture(video_input)\n",
        "  cap.set(cv.CAP_PROP_POS_FRAMES, 1000)\n",
        "  fps = FPS().start()\n",
        "\n",
        "  while (cap.isOpened()):\n",
        "    ret, frame = cap.read()\n",
        "    if frame is None:\n",
        "      break\n",
        "    \n",
        "    clear_output(wait=True)\n",
        "    \n",
        "    # resize the frame, maintaining the aspect ratio\n",
        "    #frame = cv.resize(frame, (width, height))\n",
        "    orig = frame.copy()\n",
        "    frame, rh, rw = prepare_image(frame, height, width)\n",
        "    \n",
        "    # load EAST model and get scores and geometry (coordinates of bounding boxes)\n",
        "    (scores, geometry) = load_east_model(frame, east)\n",
        "\n",
        "    # clean up low probabilities in scores and geomety then construct bounding boxes\n",
        "    (rects, confidences) = construct_bounding_boxes(scores, geometry, min_confidence)\n",
        "\n",
        "    # apply non maxima suppression\n",
        "    boxes = apply_nms(rects, confidences)\n",
        "\n",
        "    draw_boxes(boxes, orig, rh, rw)\n",
        "    #img = arrayShow(frame)\n",
        "    #display(img)\n",
        "    fps.update()\n",
        "    key = cv.waitKey(1) & 0xFF\n",
        "    if key == ord(\"q\"):\n",
        "      break\n",
        "\n",
        "  fps.stop()\n",
        "  cap.release()\n",
        "\n",
        "  "
      ],
      "execution_count": 17,
      "outputs": []
    },
    {
      "cell_type": "code",
      "metadata": {
        "id": "M4HdiWNWaXFy",
        "colab_type": "code",
        "colab": {}
      },
      "source": [
        "detect_on_videos(video_input)"
      ],
      "execution_count": 19,
      "outputs": []
    },
    {
      "cell_type": "markdown",
      "metadata": {
        "id": "w3C--Xz2twY0",
        "colab_type": "text"
      },
      "source": [
        "# OCR"
      ]
    },
    {
      "cell_type": "code",
      "metadata": {
        "id": "-VR3sDcEjQZt",
        "colab_type": "code",
        "colab": {
          "base_uri": "https://localhost:8080/",
          "height": 183
        },
        "outputId": "e0f7eec3-24b9-4caf-eaea-17c0cc565015"
      },
      "source": [
        "!pip install pytesseract\n",
        "!pip install pillow\n"
      ],
      "execution_count": 50,
      "outputs": [
        {
          "output_type": "stream",
          "text": [
            "Collecting pytesseract\n",
            "  Downloading https://files.pythonhosted.org/packages/1d/d8/521db389ff0aae32035bfda6ed39cb2c2e28521c47015f6431f07460c50a/pytesseract-0.3.4.tar.gz\n",
            "Requirement already satisfied: Pillow in /usr/local/lib/python3.6/dist-packages (from pytesseract) (7.0.0)\n",
            "Building wheels for collected packages: pytesseract\n",
            "  Building wheel for pytesseract (setup.py) ... \u001b[?25l\u001b[?25hdone\n",
            "  Created wheel for pytesseract: filename=pytesseract-0.3.4-py2.py3-none-any.whl size=13431 sha256=2cb1d2798116e252f50fd0220d919f25b943e04fabfd755fe7db42e57790e6bd\n",
            "  Stored in directory: /root/.cache/pip/wheels/63/2a/a0/7596d2e0a73cf0aeffd6f6170862c4e73f3763b7827e48691a\n",
            "Successfully built pytesseract\n",
            "Installing collected packages: pytesseract\n",
            "Successfully installed pytesseract-0.3.4\n"
          ],
          "name": "stdout"
        }
      ]
    },
    {
      "cell_type": "code",
      "metadata": {
        "id": "3x6Hd9aBjRZH",
        "colab_type": "code",
        "colab": {}
      },
      "source": [
        "import cv2 as cv\n",
        "import pytesseract as ts\n",
        "import imutils"
      ],
      "execution_count": 54,
      "outputs": []
    },
    {
      "cell_type": "code",
      "metadata": {
        "id": "SDEGqprguzml",
        "colab_type": "code",
        "colab": {}
      },
      "source": [
        ""
      ],
      "execution_count": null,
      "outputs": []
    },
    {
      "cell_type": "markdown",
      "metadata": {
        "id": "9lMKIMbXIn0E",
        "colab_type": "text"
      },
      "source": [
        "# References\n",
        "\n",
        "https://www.pyimagesearch.com/2018/08/20/opencv-text-detection-east-text-detector/\n",
        "\n",
        "https://towardsdatascience.com/yolov3-pytorch-streaming-on-google-colab-16f4fe72e7b\n"
      ]
    }
  ]
}